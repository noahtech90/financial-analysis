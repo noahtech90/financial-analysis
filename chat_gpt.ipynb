{
 "cells": [
  {
   "cell_type": "code",
   "execution_count": 4,
   "metadata": {},
   "outputs": [
    {
     "data": {
      "text/plain": [
       "<OpenAIObject text_completion id=cmpl-70zHHuupXgOPx0ArpHSxyzrAz4cKn at 0x226ffbdd680> JSON: {\n",
       "  \"choices\": [\n",
       "    {\n",
       "      \"finish_reason\": \"length\",\n",
       "      \"index\": 0,\n",
       "      \"logprobs\": null,\n",
       "      \"text\": \"\\n\\nimport matplotlib.\"\n",
       "    }\n",
       "  ],\n",
       "  \"created\": 1680469907,\n",
       "  \"id\": \"cmpl-70zHHuupXgOPx0ArpHSxyzrAz4cKn\",\n",
       "  \"model\": \"text-davinci-003\",\n",
       "  \"object\": \"text_completion\",\n",
       "  \"usage\": {\n",
       "    \"completion_tokens\": 7,\n",
       "    \"prompt_tokens\": 17,\n",
       "    \"total_tokens\": 24\n",
       "  }\n",
       "}"
      ]
     },
     "execution_count": 4,
     "metadata": {},
     "output_type": "execute_result"
    }
   ],
   "source": [
    "import os\n",
    "import openai\n",
    "\n",
    "# Load your API key from an environment variable or secret management service\n",
    "openai.api_key = os.getenv(\"ChatGptKey\")\n",
    "prompt = \"Write python code to create a stacked bar graph with two options at each x axis tick\"\n",
    "\n",
    "\n",
    "response = openai.Completion.create(model=\"text-davinci-003\", prompt=prompt, temperature=0, max_tokens=7)\n"
   ]
  },
  {
   "cell_type": "code",
   "execution_count": 7,
   "metadata": {},
   "outputs": [
    {
     "data": {
      "text/plain": [
       "'\\n\\nimport matplotlib.'"
      ]
     },
     "execution_count": 7,
     "metadata": {},
     "output_type": "execute_result"
    }
   ],
   "source": [
    "response[\"choices\"][0][\"text\"]"
   ]
  },
  {
   "cell_type": "code",
   "execution_count": 4,
   "metadata": {},
   "outputs": [],
   "source": [
    "response = openai.Image.create(\n",
    "  prompt=\"A hyper realistic photo of the italian coastline\",\n",
    "  n=1,\n",
    "  size=\"256x256\"\n",
    ")\n",
    "image_url = response['data'][0]['url']"
   ]
  },
  {
   "cell_type": "code",
   "execution_count": 5,
   "metadata": {},
   "outputs": [
    {
     "data": {
      "text/plain": [
       "'https://oaidalleapiprodscus.blob.core.windows.net/private/org-f7kXckggw7CAwW0lA5zJ3Yvs/user-LcvB2uEaEFAv22GDpGOFZz4x/img-ZteLE3Da9j6LPrAz1gojeHQH.png?st=2023-03-27T00%3A43%3A03Z&se=2023-03-27T02%3A43%3A03Z&sp=r&sv=2021-08-06&sr=b&rscd=inline&rsct=image/png&skoid=6aaadede-4fb3-4698-a8f6-684d7786b067&sktid=a48cca56-e6da-484e-a814-9c849652bcb3&skt=2023-03-26T19%3A25%3A14Z&ske=2023-03-27T19%3A25%3A14Z&sks=b&skv=2021-08-06&sig=Zw12lt6m6bvEA8719u/3AYLO5CXIhiNpJ0CCCG%2B/Lso%3D'"
      ]
     },
     "execution_count": 5,
     "metadata": {},
     "output_type": "execute_result"
    }
   ],
   "source": [
    "image_url"
   ]
  },
  {
   "cell_type": "code",
   "execution_count": 17,
   "metadata": {},
   "outputs": [
    {
     "data": {
      "text/plain": [
       "<OpenAIObject chat.completion id=chatcmpl-6vUWaN8IuznkNP4YpTeU9YoMtyKtQ at 0x292e04e0680> JSON: {\n",
       "  \"choices\": [\n",
       "    {\n",
       "      \"finish_reason\": \"stop\",\n",
       "      \"index\": 0,\n",
       "      \"message\": {\n",
       "        \"content\": \"As a goblin of the realm of Dawngard, I am always ready for a fight. I will not hesitate to strike you down with my sharp claws and wicked dagger. You better be prepared for a fierce battle, human!\",\n",
       "        \"role\": \"assistant\"\n",
       "      }\n",
       "    }\n",
       "  ],\n",
       "  \"created\": 1679160052,\n",
       "  \"id\": \"chatcmpl-6vUWaN8IuznkNP4YpTeU9YoMtyKtQ\",\n",
       "  \"model\": \"gpt-3.5-turbo-0301\",\n",
       "  \"object\": \"chat.completion\",\n",
       "  \"usage\": {\n",
       "    \"completion_tokens\": 48,\n",
       "    \"prompt_tokens\": 59,\n",
       "    \"total_tokens\": 107\n",
       "  }\n",
       "}"
      ]
     },
     "execution_count": 17,
     "metadata": {},
     "output_type": "execute_result"
    }
   ],
   "source": [
    "# Note: you need to be using OpenAI Python v0.27.0 for the code below to work\n",
    "import openai\n",
    "\n",
    "openai.ChatCompletion.create(\n",
    "  model=\"gpt-3.5-turbo\",\n",
    "  messages=[\n",
    "        {\"role\": \"system\", \"content\": \"Pretend to be a goblin from the realm of Dawngard\"},\n",
    "        {\"role\": \"user\", \"content\": \"Are you friend or foe?\"},\n",
    "        {\"role\": \"system\", \"content\": \"Pretend to be goblin I am your enemy\"},\n",
    "        {\"role\": \"user\", \"content\": \"Do you want to fight\"},\n",
    "    ]\n",
    ")"
   ]
  },
  {
   "cell_type": "code",
   "execution_count": 9,
   "metadata": {},
   "outputs": [],
   "source": [
    "summary = \"\"\"\n",
    "Why is Mexico a good place to visit this Spring?\n",
    "\"\"\""
   ]
  },
  {
   "cell_type": "code",
   "execution_count": 10,
   "metadata": {},
   "outputs": [],
   "source": [
    "import os\n",
    "import openai\n",
    "\n",
    "openai.api_key = os.getenv(\"ChatGptKey\")\n",
    "\n",
    "response = openai.Completion.create(\n",
    "  model=\"text-davinci-003\",\n",
    "  prompt=f\"\"\"{summary}\"\"\",\n",
    "  temperature=0,\n",
    "  max_tokens=100,\n",
    "  top_p=1.0,\n",
    "  frequency_penalty=0.0,\n",
    "  presence_penalty=0.0\n",
    ")"
   ]
  },
  {
   "cell_type": "code",
   "execution_count": 11,
   "metadata": {},
   "outputs": [
    {
     "data": {
      "text/plain": [
       "'\\nMexico is a great place to visit this Spring for a variety of reasons. The weather is warm and sunny, making it perfect for outdoor activities like swimming, snorkeling, and exploring the many beaches. Mexico is also home to a variety of cultural attractions, from ancient ruins to vibrant cities. The country is also known for its delicious cuisine, with a variety of regional dishes to try. Finally, Mexico is a great place to visit for its affordability, with many budget-friendly options for'"
      ]
     },
     "execution_count": 11,
     "metadata": {},
     "output_type": "execute_result"
    }
   ],
   "source": [
    "response[\"choices\"][0][\"text\"]"
   ]
  },
  {
   "attachments": {},
   "cell_type": "markdown",
   "metadata": {},
   "source": [
    "### Using Chat GPT To Generate Code"
   ]
  },
  {
   "cell_type": "code",
   "execution_count": 12,
   "metadata": {},
   "outputs": [
    {
     "data": {
      "image/png": "[encoded data removed]",
      "text/plain": [
       "<Figure size 640x480 with 1 Axes>"
      ]
     },
     "metadata": {},
     "output_type": "display_data"
    }
   ],
   "source": [
    "import pandas as pd\n",
    "import matplotlib.pyplot as plt\n",
    "import numpy as np\n",
    "\n",
    "def grouped_bar_plot(dataframe, x_column, y_columns):\n",
    "    \"\"\"\n",
    "    Plots a grouped bar plot with three options for each x-axis tick using pandas and matplotlib.\n",
    "    \n",
    "    :param dataframe: A pandas dataframe containing the data to be plotted.\n",
    "    :param x_column: The name of the column in the dataframe to be used as the x-axis.\n",
    "    :param y_columns: A list of the names of the columns in the dataframe to be plotted side-by-side for each x-axis tick.\n",
    "    \"\"\"\n",
    "    \n",
    "    # Create a new dataframe with the data to be plotted\n",
    "    plot_data = dataframe[y_columns]\n",
    "    \n",
    "    # Get the x-axis labels and the number of bars per group\n",
    "    x_labels = dataframe[x_column].values\n",
    "    num_bars = len(y_columns)\n",
    "    \n",
    "    # Calculate the width of each bar\n",
    "    bar_width = 1.0 / (num_bars + 1)\n",
    "    \n",
    "    # Create a list of bar positions for each group\n",
    "    bar_positions = np.arange(len(x_labels))\n",
    "    \n",
    "    # Plot the bars for each group\n",
    "    fig, ax = plt.subplots()\n",
    "    \n",
    "    for i, y_col in enumerate(y_columns):\n",
    "        # Calculate the position of each bar for this group\n",
    "        bar_pos = bar_positions + (i * bar_width)\n",
    "        \n",
    "        # Plot the bars for this group\n",
    "        ax.bar(bar_pos, plot_data[y_col], width=bar_width, label=y_col)\n",
    "    \n",
    "    # Set the x-axis labels and tick positions\n",
    "    ax.set_xticks(bar_positions + (bar_width * (num_bars - 1) / 2))\n",
    "    ax.set_xticklabels(x_labels)\n",
    "    \n",
    "    # Add a legend\n",
    "    ax.legend(loc='upper right', bbox_to_anchor=(1.2, 1.0))\n",
    "    \n",
    "    # Show the plot\n",
    "    plt.show()\n",
    "\n",
    "\n",
    "# Create a sample dataframe\n",
    "df = pd.DataFrame({\n",
    "    'x_axis': ['A', 'B', 'C', 'D'],\n",
    "    'option_1': [10, 20, 30, 40],\n",
    "    'option_2': [20, 30, 10, 40],\n",
    "    'option_3': [30, 10, 20, 30]\n",
    "})\n",
    "\n",
    "# Call the stacked_bar_plot function\n",
    "grouped_bar_plot(df, 'x_axis', ['option_1', 'option_2', 'option_3'])"
   ]
  }
 ],
 "metadata": {
  "kernelspec": {
   "display_name": "venv",
   "language": "python",
   "name": "python3"
  },
  "language_info": {
   "codemirror_mode": {
    "name": "ipython",
    "version": 3
   },
   "file_extension": ".py",
   "mimetype": "text/x-python",
   "name": "python",
   "nbconvert_exporter": "python",
   "pygments_lexer": "ipython3",
   "version": "3.9.13"
  },
  "orig_nbformat": 4,
  "vscode": {
   "interpreter": {
    "hash": "58a9a923cc53f6eb441dd9cecc810e2b528684158c7acbe86114ab94a203a9eb"
   }
  }
 },
 "nbformat": 4,
 "nbformat_minor": 2
}
