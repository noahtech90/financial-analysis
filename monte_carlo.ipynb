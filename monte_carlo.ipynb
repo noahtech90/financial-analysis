{
 "cells": [
  {
   "attachments": {},
   "cell_type": "markdown",
   "metadata": {},
   "source": [
    "### Determine Optimal Portfolio Allocation Using Monte Carlo"
   ]
  },
  {
   "cell_type": "code",
   "execution_count": 14,
   "metadata": {},
   "outputs": [
    {
     "name": "stdout",
     "output_type": "stream",
     "text": [
      "[*********************100%***********************]  7 of 7 completed\n"
     ]
    }
   ],
   "source": [
    "import datetime as dt\n",
    "import yfinance as yf\n",
    "import numpy as np\n",
    "\n",
    "# 10 Companies to Design Portfolio Around\n",
    "tickers = [\"coke\", 'googl', 'hd', 'ford', 'smg', 'jnj', 'ag']\n",
    "start = \"2000-01-01\"\n",
    "end = \"2020-01-01\"\n",
    "\n",
    "# Grab yfinance Data\n",
    "df_portfolio = yf.download(tickers, start, end).reset_index()"
   ]
  },
  {
   "cell_type": "code",
   "execution_count": 21,
   "metadata": {},
   "outputs": [
    {
     "name": "stderr",
     "output_type": "stream",
     "text": [
      "c:\\Users\\PCSale123\\OneDrive\\Desktop\\Data Science\\Finance\\financial-analysis\\venv\\lib\\site-packages\\pandas\\core\\arraylike.py:402: RuntimeWarning: divide by zero encountered in log\n",
      "  result = getattr(ufunc, method)(*inputs, **kwargs)\n",
      "c:\\Users\\PCSale123\\OneDrive\\Desktop\\Data Science\\Finance\\financial-analysis\\venv\\lib\\site-packages\\pandas\\core\\arraylike.py:402: RuntimeWarning: invalid value encountered in log\n",
      "  result = getattr(ufunc, method)(*inputs, **kwargs)\n",
      "c:\\Users\\PCSale123\\OneDrive\\Desktop\\Data Science\\Finance\\financial-analysis\\venv\\lib\\site-packages\\pandas\\core\\arraylike.py:402: RuntimeWarning: divide by zero encountered in log\n",
      "  result = getattr(ufunc, method)(*inputs, **kwargs)\n",
      "c:\\Users\\PCSale123\\OneDrive\\Desktop\\Data Science\\Finance\\financial-analysis\\venv\\lib\\site-packages\\pandas\\core\\arraylike.py:402: RuntimeWarning: invalid value encountered in log\n",
      "  result = getattr(ufunc, method)(*inputs, **kwargs)\n",
      "c:\\Users\\PCSale123\\OneDrive\\Desktop\\Data Science\\Finance\\financial-analysis\\venv\\lib\\site-packages\\pandas\\core\\arraylike.py:402: RuntimeWarning: divide by zero encountered in log\n",
      "  result = getattr(ufunc, method)(*inputs, **kwargs)\n",
      "c:\\Users\\PCSale123\\OneDrive\\Desktop\\Data Science\\Finance\\financial-analysis\\venv\\lib\\site-packages\\pandas\\core\\arraylike.py:402: RuntimeWarning: invalid value encountered in log\n",
      "  result = getattr(ufunc, method)(*inputs, **kwargs)\n",
      "c:\\Users\\PCSale123\\OneDrive\\Desktop\\Data Science\\Finance\\financial-analysis\\venv\\lib\\site-packages\\pandas\\core\\arraylike.py:402: RuntimeWarning: divide by zero encountered in log\n",
      "  result = getattr(ufunc, method)(*inputs, **kwargs)\n",
      "c:\\Users\\PCSale123\\OneDrive\\Desktop\\Data Science\\Finance\\financial-analysis\\venv\\lib\\site-packages\\pandas\\core\\arraylike.py:402: RuntimeWarning: invalid value encountered in log\n",
      "  result = getattr(ufunc, method)(*inputs, **kwargs)\n",
      "c:\\Users\\PCSale123\\OneDrive\\Desktop\\Data Science\\Finance\\financial-analysis\\venv\\lib\\site-packages\\pandas\\core\\arraylike.py:402: RuntimeWarning: divide by zero encountered in log\n",
      "  result = getattr(ufunc, method)(*inputs, **kwargs)\n",
      "c:\\Users\\PCSale123\\OneDrive\\Desktop\\Data Science\\Finance\\financial-analysis\\venv\\lib\\site-packages\\pandas\\core\\arraylike.py:402: RuntimeWarning: invalid value encountered in log\n",
      "  result = getattr(ufunc, method)(*inputs, **kwargs)\n",
      "c:\\Users\\PCSale123\\OneDrive\\Desktop\\Data Science\\Finance\\financial-analysis\\venv\\lib\\site-packages\\pandas\\core\\arraylike.py:402: RuntimeWarning: divide by zero encountered in log\n",
      "  result = getattr(ufunc, method)(*inputs, **kwargs)\n",
      "c:\\Users\\PCSale123\\OneDrive\\Desktop\\Data Science\\Finance\\financial-analysis\\venv\\lib\\site-packages\\pandas\\core\\arraylike.py:402: RuntimeWarning: invalid value encountered in log\n",
      "  result = getattr(ufunc, method)(*inputs, **kwargs)\n",
      "c:\\Users\\PCSale123\\OneDrive\\Desktop\\Data Science\\Finance\\financial-analysis\\venv\\lib\\site-packages\\pandas\\core\\arraylike.py:402: RuntimeWarning: divide by zero encountered in log\n",
      "  result = getattr(ufunc, method)(*inputs, **kwargs)\n",
      "c:\\Users\\PCSale123\\OneDrive\\Desktop\\Data Science\\Finance\\financial-analysis\\venv\\lib\\site-packages\\pandas\\core\\arraylike.py:402: RuntimeWarning: invalid value encountered in log\n",
      "  result = getattr(ufunc, method)(*inputs, **kwargs)\n"
     ]
    },
    {
     "ename": "TypeError",
     "evalue": "cannot do slice indexing on DatetimeIndex with these indexers [6] of type int",
     "output_type": "error",
     "traceback": [
      "\u001b[1;31m---------------------------------------------------------------------------\u001b[0m",
      "\u001b[1;31mTypeError\u001b[0m                                 Traceback (most recent call last)",
      "Cell \u001b[1;32mIn[21], line 12\u001b[0m\n\u001b[0;32m      8\u001b[0m     df_stock_data[\u001b[39mf\u001b[39m\u001b[39m\"\u001b[39m\u001b[39m{\u001b[39;00mcompany\u001b[39m}\u001b[39;00m\u001b[39m return\u001b[39m\u001b[39m\"\u001b[39m] \u001b[39m=\u001b[39m np\u001b[39m.\u001b[39mlog(df_stock_data[company]\u001b[39m.\u001b[39mpct_change())\n\u001b[0;32m     10\u001b[0m df_stock_data\u001b[39m.\u001b[39mdropna(inplace\u001b[39m=\u001b[39m\u001b[39mTrue\u001b[39;00m)\n\u001b[1;32m---> 12\u001b[0m df_return_series \u001b[39m=\u001b[39m df_stock_data\u001b[39m.\u001b[39;49mloc[\u001b[39m6\u001b[39;49m:]\n\u001b[0;32m     13\u001b[0m df_return_series\n",
      "File \u001b[1;32mc:\\Users\\PCSale123\\OneDrive\\Desktop\\Data Science\\Finance\\financial-analysis\\venv\\lib\\site-packages\\pandas\\core\\indexing.py:1073\u001b[0m, in \u001b[0;36m_LocationIndexer.__getitem__\u001b[1;34m(self, key)\u001b[0m\n\u001b[0;32m   1070\u001b[0m axis \u001b[39m=\u001b[39m \u001b[39mself\u001b[39m\u001b[39m.\u001b[39maxis \u001b[39mor\u001b[39;00m \u001b[39m0\u001b[39m\n\u001b[0;32m   1072\u001b[0m maybe_callable \u001b[39m=\u001b[39m com\u001b[39m.\u001b[39mapply_if_callable(key, \u001b[39mself\u001b[39m\u001b[39m.\u001b[39mobj)\n\u001b[1;32m-> 1073\u001b[0m \u001b[39mreturn\u001b[39;00m \u001b[39mself\u001b[39;49m\u001b[39m.\u001b[39;49m_getitem_axis(maybe_callable, axis\u001b[39m=\u001b[39;49maxis)\n",
      "File \u001b[1;32mc:\\Users\\PCSale123\\OneDrive\\Desktop\\Data Science\\Finance\\financial-analysis\\venv\\lib\\site-packages\\pandas\\core\\indexing.py:1290\u001b[0m, in \u001b[0;36m_LocIndexer._getitem_axis\u001b[1;34m(self, key, axis)\u001b[0m\n\u001b[0;32m   1288\u001b[0m \u001b[39mif\u001b[39;00m \u001b[39misinstance\u001b[39m(key, \u001b[39mslice\u001b[39m):\n\u001b[0;32m   1289\u001b[0m     \u001b[39mself\u001b[39m\u001b[39m.\u001b[39m_validate_key(key, axis)\n\u001b[1;32m-> 1290\u001b[0m     \u001b[39mreturn\u001b[39;00m \u001b[39mself\u001b[39;49m\u001b[39m.\u001b[39;49m_get_slice_axis(key, axis\u001b[39m=\u001b[39;49maxis)\n\u001b[0;32m   1291\u001b[0m \u001b[39melif\u001b[39;00m com\u001b[39m.\u001b[39mis_bool_indexer(key):\n\u001b[0;32m   1292\u001b[0m     \u001b[39mreturn\u001b[39;00m \u001b[39mself\u001b[39m\u001b[39m.\u001b[39m_getbool_axis(key, axis\u001b[39m=\u001b[39maxis)\n",
      "File \u001b[1;32mc:\\Users\\PCSale123\\OneDrive\\Desktop\\Data Science\\Finance\\financial-analysis\\venv\\lib\\site-packages\\pandas\\core\\indexing.py:1324\u001b[0m, in \u001b[0;36m_LocIndexer._get_slice_axis\u001b[1;34m(self, slice_obj, axis)\u001b[0m\n\u001b[0;32m   1321\u001b[0m     \u001b[39mreturn\u001b[39;00m obj\u001b[39m.\u001b[39mcopy(deep\u001b[39m=\u001b[39m\u001b[39mFalse\u001b[39;00m)\n\u001b[0;32m   1323\u001b[0m labels \u001b[39m=\u001b[39m obj\u001b[39m.\u001b[39m_get_axis(axis)\n\u001b[1;32m-> 1324\u001b[0m indexer \u001b[39m=\u001b[39m labels\u001b[39m.\u001b[39;49mslice_indexer(slice_obj\u001b[39m.\u001b[39;49mstart, slice_obj\u001b[39m.\u001b[39;49mstop, slice_obj\u001b[39m.\u001b[39;49mstep)\n\u001b[0;32m   1326\u001b[0m \u001b[39mif\u001b[39;00m \u001b[39misinstance\u001b[39m(indexer, \u001b[39mslice\u001b[39m):\n\u001b[0;32m   1327\u001b[0m     \u001b[39mreturn\u001b[39;00m \u001b[39mself\u001b[39m\u001b[39m.\u001b[39mobj\u001b[39m.\u001b[39m_slice(indexer, axis\u001b[39m=\u001b[39maxis)\n",
      "File \u001b[1;32mc:\\Users\\PCSale123\\OneDrive\\Desktop\\Data Science\\Finance\\financial-analysis\\venv\\lib\\site-packages\\pandas\\core\\indexes\\datetimes.py:809\u001b[0m, in \u001b[0;36mDatetimeIndex.slice_indexer\u001b[1;34m(self, start, end, step, kind)\u001b[0m\n\u001b[0;32m    801\u001b[0m \u001b[39m# GH#33146 if start and end are combinations of str and None and Index is not\u001b[39;00m\n\u001b[0;32m    802\u001b[0m \u001b[39m# monotonic, we can not use Index.slice_indexer because it does not honor the\u001b[39;00m\n\u001b[0;32m    803\u001b[0m \u001b[39m# actual elements, is only searching for start and end\u001b[39;00m\n\u001b[0;32m    804\u001b[0m \u001b[39mif\u001b[39;00m (\n\u001b[0;32m    805\u001b[0m     check_str_or_none(start)\n\u001b[0;32m    806\u001b[0m     \u001b[39mor\u001b[39;00m check_str_or_none(end)\n\u001b[0;32m    807\u001b[0m     \u001b[39mor\u001b[39;00m \u001b[39mself\u001b[39m\u001b[39m.\u001b[39mis_monotonic_increasing\n\u001b[0;32m    808\u001b[0m ):\n\u001b[1;32m--> 809\u001b[0m     \u001b[39mreturn\u001b[39;00m Index\u001b[39m.\u001b[39;49mslice_indexer(\u001b[39mself\u001b[39;49m, start, end, step, kind\u001b[39m=\u001b[39;49mkind)\n\u001b[0;32m    811\u001b[0m mask \u001b[39m=\u001b[39m np\u001b[39m.\u001b[39marray(\u001b[39mTrue\u001b[39;00m)\n\u001b[0;32m    812\u001b[0m deprecation_mask \u001b[39m=\u001b[39m np\u001b[39m.\u001b[39marray(\u001b[39mTrue\u001b[39;00m)\n",
      "File \u001b[1;32mc:\\Users\\PCSale123\\OneDrive\\Desktop\\Data Science\\Finance\\financial-analysis\\venv\\lib\\site-packages\\pandas\\core\\indexes\\base.py:6559\u001b[0m, in \u001b[0;36mIndex.slice_indexer\u001b[1;34m(self, start, end, step, kind)\u001b[0m\n\u001b[0;32m   6516\u001b[0m \u001b[39m\u001b[39m\u001b[39m\"\"\"\u001b[39;00m\n\u001b[0;32m   6517\u001b[0m \u001b[39mCompute the slice indexer for input labels and step.\u001b[39;00m\n\u001b[0;32m   6518\u001b[0m \n\u001b[1;32m   (...)\u001b[0m\n\u001b[0;32m   6555\u001b[0m \u001b[39mslice(1, 3, None)\u001b[39;00m\n\u001b[0;32m   6556\u001b[0m \u001b[39m\"\"\"\u001b[39;00m\n\u001b[0;32m   6557\u001b[0m \u001b[39mself\u001b[39m\u001b[39m.\u001b[39m_deprecated_arg(kind, \u001b[39m\"\u001b[39m\u001b[39mkind\u001b[39m\u001b[39m\"\u001b[39m, \u001b[39m\"\u001b[39m\u001b[39mslice_indexer\u001b[39m\u001b[39m\"\u001b[39m)\n\u001b[1;32m-> 6559\u001b[0m start_slice, end_slice \u001b[39m=\u001b[39m \u001b[39mself\u001b[39;49m\u001b[39m.\u001b[39;49mslice_locs(start, end, step\u001b[39m=\u001b[39;49mstep)\n\u001b[0;32m   6561\u001b[0m \u001b[39m# return a slice\u001b[39;00m\n\u001b[0;32m   6562\u001b[0m \u001b[39mif\u001b[39;00m \u001b[39mnot\u001b[39;00m is_scalar(start_slice):\n",
      "File \u001b[1;32mc:\\Users\\PCSale123\\OneDrive\\Desktop\\Data Science\\Finance\\financial-analysis\\venv\\lib\\site-packages\\pandas\\core\\indexes\\base.py:6767\u001b[0m, in \u001b[0;36mIndex.slice_locs\u001b[1;34m(self, start, end, step, kind)\u001b[0m\n\u001b[0;32m   6765\u001b[0m start_slice \u001b[39m=\u001b[39m \u001b[39mNone\u001b[39;00m\n\u001b[0;32m   6766\u001b[0m \u001b[39mif\u001b[39;00m start \u001b[39mis\u001b[39;00m \u001b[39mnot\u001b[39;00m \u001b[39mNone\u001b[39;00m:\n\u001b[1;32m-> 6767\u001b[0m     start_slice \u001b[39m=\u001b[39m \u001b[39mself\u001b[39;49m\u001b[39m.\u001b[39;49mget_slice_bound(start, \u001b[39m\"\u001b[39;49m\u001b[39mleft\u001b[39;49m\u001b[39m\"\u001b[39;49m)\n\u001b[0;32m   6768\u001b[0m \u001b[39mif\u001b[39;00m start_slice \u001b[39mis\u001b[39;00m \u001b[39mNone\u001b[39;00m:\n\u001b[0;32m   6769\u001b[0m     start_slice \u001b[39m=\u001b[39m \u001b[39m0\u001b[39m\n",
      "File \u001b[1;32mc:\\Users\\PCSale123\\OneDrive\\Desktop\\Data Science\\Finance\\financial-analysis\\venv\\lib\\site-packages\\pandas\\core\\indexes\\base.py:6676\u001b[0m, in \u001b[0;36mIndex.get_slice_bound\u001b[1;34m(self, label, side, kind)\u001b[0m\n\u001b[0;32m   6672\u001b[0m original_label \u001b[39m=\u001b[39m label\n\u001b[0;32m   6674\u001b[0m \u001b[39m# For datetime indices label may be a string that has to be converted\u001b[39;00m\n\u001b[0;32m   6675\u001b[0m \u001b[39m# to datetime boundary according to its resolution.\u001b[39;00m\n\u001b[1;32m-> 6676\u001b[0m label \u001b[39m=\u001b[39m \u001b[39mself\u001b[39;49m\u001b[39m.\u001b[39;49m_maybe_cast_slice_bound(label, side)\n\u001b[0;32m   6678\u001b[0m \u001b[39m# we need to look up the label\u001b[39;00m\n\u001b[0;32m   6679\u001b[0m \u001b[39mtry\u001b[39;00m:\n",
      "File \u001b[1;32mc:\\Users\\PCSale123\\OneDrive\\Desktop\\Data Science\\Finance\\financial-analysis\\venv\\lib\\site-packages\\pandas\\core\\indexes\\datetimes.py:767\u001b[0m, in \u001b[0;36mDatetimeIndex._maybe_cast_slice_bound\u001b[1;34m(self, label, side, kind)\u001b[0m\n\u001b[0;32m    762\u001b[0m \u001b[39mif\u001b[39;00m \u001b[39misinstance\u001b[39m(label, date) \u001b[39mand\u001b[39;00m \u001b[39mnot\u001b[39;00m \u001b[39misinstance\u001b[39m(label, datetime):\n\u001b[0;32m    763\u001b[0m     \u001b[39m# Pandas supports slicing with dates, treated as datetimes at midnight.\u001b[39;00m\n\u001b[0;32m    764\u001b[0m     \u001b[39m# https://github.com/pandas-dev/pandas/issues/31501\u001b[39;00m\n\u001b[0;32m    765\u001b[0m     label \u001b[39m=\u001b[39m Timestamp(label)\u001b[39m.\u001b[39mto_pydatetime()\n\u001b[1;32m--> 767\u001b[0m label \u001b[39m=\u001b[39m \u001b[39msuper\u001b[39;49m()\u001b[39m.\u001b[39;49m_maybe_cast_slice_bound(label, side, kind\u001b[39m=\u001b[39;49mkind)\n\u001b[0;32m    768\u001b[0m \u001b[39mself\u001b[39m\u001b[39m.\u001b[39m_deprecate_mismatched_indexing(label)\n\u001b[0;32m    769\u001b[0m \u001b[39mreturn\u001b[39;00m \u001b[39mself\u001b[39m\u001b[39m.\u001b[39m_maybe_cast_for_get_loc(label)\n",
      "File \u001b[1;32mc:\\Users\\PCSale123\\OneDrive\\Desktop\\Data Science\\Finance\\financial-analysis\\venv\\lib\\site-packages\\pandas\\core\\indexes\\datetimelike.py:320\u001b[0m, in \u001b[0;36mDatetimeIndexOpsMixin._maybe_cast_slice_bound\u001b[1;34m(self, label, side, kind)\u001b[0m\n\u001b[0;32m    318\u001b[0m     \u001b[39mreturn\u001b[39;00m lower \u001b[39mif\u001b[39;00m side \u001b[39m==\u001b[39m \u001b[39m\"\u001b[39m\u001b[39mleft\u001b[39m\u001b[39m\"\u001b[39m \u001b[39melse\u001b[39;00m upper\n\u001b[0;32m    319\u001b[0m \u001b[39melif\u001b[39;00m \u001b[39mnot\u001b[39;00m \u001b[39misinstance\u001b[39m(label, \u001b[39mself\u001b[39m\u001b[39m.\u001b[39m_data\u001b[39m.\u001b[39m_recognized_scalars):\n\u001b[1;32m--> 320\u001b[0m     \u001b[39mraise\u001b[39;00m \u001b[39mself\u001b[39m\u001b[39m.\u001b[39m_invalid_indexer(\u001b[39m\"\u001b[39m\u001b[39mslice\u001b[39m\u001b[39m\"\u001b[39m, label)\n\u001b[0;32m    322\u001b[0m \u001b[39mreturn\u001b[39;00m label\n",
      "\u001b[1;31mTypeError\u001b[0m: cannot do slice indexing on DatetimeIndex with these indexers [6] of type int"
     ]
    }
   ],
   "source": [
    "# Set Date as Index\n",
    "df_stock_data = df_portfolio.set_index(\"Date\").copy(deep=True)\n",
    "df_stock_data = df_stock_data[\"Adj Close\"].dropna()\n",
    "\n",
    "companies = df_stock_data.columns\n",
    "\n",
    "for company in companies:\n",
    "    df_stock_data[f\"{company} return\"] = np.log(df_stock_data[company].pct_change())\n",
    "\n",
    "df_stock_data.dropna(inplace=True)\n",
    "\n",
    "df_return_series = df_stock_data.loc[6:]\n",
    "df_return_series"
   ]
  },
  {
   "cell_type": "code",
   "execution_count": null,
   "metadata": {},
   "outputs": [],
   "source": []
  }
 ],
 "metadata": {
  "kernelspec": {
   "display_name": "venv",
   "language": "python",
   "name": "python3"
  },
  "language_info": {
   "codemirror_mode": {
    "name": "ipython",
    "version": 3
   },
   "file_extension": ".py",
   "mimetype": "text/x-python",
   "name": "python",
   "nbconvert_exporter": "python",
   "pygments_lexer": "ipython3",
   "version": "3.9.13"
  },
  "orig_nbformat": 4,
  "vscode": {
   "interpreter": {
    "hash": "58a9a923cc53f6eb441dd9cecc810e2b528684158c7acbe86114ab94a203a9eb"
   }
  }
 },
 "nbformat": 4,
 "nbformat_minor": 2
}
