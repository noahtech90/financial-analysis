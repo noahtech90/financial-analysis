{
 "cells": [
  {
   "attachments": {},
   "cell_type": "markdown",
   "metadata": {},
   "source": [
    "### Determine Optimal Portfolio Allocation Using Monte Carlo"
   ]
  },
  {
   "cell_type": "code",
   "execution_count": 44,
   "metadata": {},
   "outputs": [
    {
     "name": "stdout",
     "output_type": "stream",
     "text": [
      "[*********************100%***********************]  7 of 7 completed\n"
     ]
    }
   ],
   "source": [
    "import datetime as dt\n",
    "import yfinance as yf\n",
    "import numpy as np\n",
    "import pandas as pd\n",
    "\n",
    "# 10 Companies to Design Portfolio Around\n",
    "tickers = [\"coke\", 'googl', 'hd', 'ford', 'smg', 'jnj', 'ag']\n",
    "start = \"2000-01-01\"\n",
    "end = \"2020-01-01\"\n",
    "\n",
    "# Grab yfinance Data\n",
    "df_portfolio = yf.download(tickers, start, end).reset_index()"
   ]
  },
  {
   "cell_type": "code",
   "execution_count": 80,
   "metadata": {},
   "outputs": [
    {
     "data": {
      "text/html": [
       "<div>\n",
       "<style scoped>\n",
       "    .dataframe tbody tr th:only-of-type {\n",
       "        vertical-align: middle;\n",
       "    }\n",
       "\n",
       "    .dataframe tbody tr th {\n",
       "        vertical-align: top;\n",
       "    }\n",
       "\n",
       "    .dataframe thead th {\n",
       "        text-align: right;\n",
       "    }\n",
       "</style>\n",
       "<table border=\"1\" class=\"dataframe\">\n",
       "  <thead>\n",
       "    <tr style=\"text-align: right;\">\n",
       "      <th></th>\n",
       "      <th>ag</th>\n",
       "      <th>coke</th>\n",
       "      <th>ford</th>\n",
       "      <th>googl</th>\n",
       "      <th>hd</th>\n",
       "      <th>jnj</th>\n",
       "      <th>smg</th>\n",
       "    </tr>\n",
       "    <tr>\n",
       "      <th>Date</th>\n",
       "      <th></th>\n",
       "      <th></th>\n",
       "      <th></th>\n",
       "      <th></th>\n",
       "      <th></th>\n",
       "      <th></th>\n",
       "      <th></th>\n",
       "    </tr>\n",
       "  </thead>\n",
       "  <tbody>\n",
       "    <tr>\n",
       "      <th>2006-11-29</th>\n",
       "      <td>0.005115</td>\n",
       "      <td>-0.003918</td>\n",
       "      <td>0.006486</td>\n",
       "      <td>-0.009958</td>\n",
       "      <td>0.014728</td>\n",
       "      <td>0.003481</td>\n",
       "      <td>0.001213</td>\n",
       "    </tr>\n",
       "    <tr>\n",
       "      <th>2006-11-30</th>\n",
       "      <td>0.005089</td>\n",
       "      <td>-0.008674</td>\n",
       "      <td>-0.019587</td>\n",
       "      <td>0.000330</td>\n",
       "      <td>0.009261</td>\n",
       "      <td>-0.004391</td>\n",
       "      <td>-0.000606</td>\n",
       "    </tr>\n",
       "    <tr>\n",
       "      <th>2006-12-01</th>\n",
       "      <td>-0.033552</td>\n",
       "      <td>-0.021617</td>\n",
       "      <td>-0.035798</td>\n",
       "      <td>-0.008306</td>\n",
       "      <td>0.025996</td>\n",
       "      <td>0.000911</td>\n",
       "      <td>0.000202</td>\n",
       "    </tr>\n",
       "    <tr>\n",
       "      <th>2006-12-04</th>\n",
       "      <td>0.020780</td>\n",
       "      <td>0.027460</td>\n",
       "      <td>0.013575</td>\n",
       "      <td>0.008388</td>\n",
       "      <td>0.005884</td>\n",
       "      <td>0.004688</td>\n",
       "      <td>0.003832</td>\n",
       "    </tr>\n",
       "    <tr>\n",
       "      <th>2006-12-05</th>\n",
       "      <td>-0.031334</td>\n",
       "      <td>0.011274</td>\n",
       "      <td>-0.018141</td>\n",
       "      <td>0.004425</td>\n",
       "      <td>0.004327</td>\n",
       "      <td>-0.001661</td>\n",
       "      <td>0.001610</td>\n",
       "    </tr>\n",
       "    <tr>\n",
       "      <th>...</th>\n",
       "      <td>...</td>\n",
       "      <td>...</td>\n",
       "      <td>...</td>\n",
       "      <td>...</td>\n",
       "      <td>...</td>\n",
       "      <td>...</td>\n",
       "      <td>...</td>\n",
       "    </tr>\n",
       "    <tr>\n",
       "      <th>2019-12-24</th>\n",
       "      <td>0.062979</td>\n",
       "      <td>0.005742</td>\n",
       "      <td>-0.020001</td>\n",
       "      <td>-0.004601</td>\n",
       "      <td>0.006638</td>\n",
       "      <td>-0.003489</td>\n",
       "      <td>0.000844</td>\n",
       "    </tr>\n",
       "    <tr>\n",
       "      <th>2019-12-26</th>\n",
       "      <td>0.016584</td>\n",
       "      <td>0.021414</td>\n",
       "      <td>0.039609</td>\n",
       "      <td>0.013329</td>\n",
       "      <td>0.000680</td>\n",
       "      <td>-0.000685</td>\n",
       "      <td>-0.000188</td>\n",
       "    </tr>\n",
       "    <tr>\n",
       "      <th>2019-12-27</th>\n",
       "      <td>-0.022454</td>\n",
       "      <td>0.003445</td>\n",
       "      <td>-0.039609</td>\n",
       "      <td>-0.005763</td>\n",
       "      <td>-0.003857</td>\n",
       "      <td>-0.000549</td>\n",
       "      <td>0.001500</td>\n",
       "    </tr>\n",
       "    <tr>\n",
       "      <th>2019-12-30</th>\n",
       "      <td>0.042805</td>\n",
       "      <td>-0.015962</td>\n",
       "      <td>0.000000</td>\n",
       "      <td>-0.011083</td>\n",
       "      <td>-0.012166</td>\n",
       "      <td>-0.003092</td>\n",
       "      <td>-0.008939</td>\n",
       "    </tr>\n",
       "    <tr>\n",
       "      <th>2019-12-31</th>\n",
       "      <td>-0.012161</td>\n",
       "      <td>-0.017276</td>\n",
       "      <td>0.000000</td>\n",
       "      <td>-0.000239</td>\n",
       "      <td>0.004912</td>\n",
       "      <td>0.003915</td>\n",
       "      <td>0.003585</td>\n",
       "    </tr>\n",
       "  </tbody>\n",
       "</table>\n",
       "<p>3294 rows × 7 columns</p>\n",
       "</div>"
      ],
      "text/plain": [
       "                  ag      coke      ford     googl        hd       jnj  \\\n",
       "Date                                                                     \n",
       "2006-11-29  0.005115 -0.003918  0.006486 -0.009958  0.014728  0.003481   \n",
       "2006-11-30  0.005089 -0.008674 -0.019587  0.000330  0.009261 -0.004391   \n",
       "2006-12-01 -0.033552 -0.021617 -0.035798 -0.008306  0.025996  0.000911   \n",
       "2006-12-04  0.020780  0.027460  0.013575  0.008388  0.005884  0.004688   \n",
       "2006-12-05 -0.031334  0.011274 -0.018141  0.004425  0.004327 -0.001661   \n",
       "...              ...       ...       ...       ...       ...       ...   \n",
       "2019-12-24  0.062979  0.005742 -0.020001 -0.004601  0.006638 -0.003489   \n",
       "2019-12-26  0.016584  0.021414  0.039609  0.013329  0.000680 -0.000685   \n",
       "2019-12-27 -0.022454  0.003445 -0.039609 -0.005763 -0.003857 -0.000549   \n",
       "2019-12-30  0.042805 -0.015962  0.000000 -0.011083 -0.012166 -0.003092   \n",
       "2019-12-31 -0.012161 -0.017276  0.000000 -0.000239  0.004912  0.003915   \n",
       "\n",
       "                 smg  \n",
       "Date                  \n",
       "2006-11-29  0.001213  \n",
       "2006-11-30 -0.000606  \n",
       "2006-12-01  0.000202  \n",
       "2006-12-04  0.003832  \n",
       "2006-12-05  0.001610  \n",
       "...              ...  \n",
       "2019-12-24  0.000844  \n",
       "2019-12-26 -0.000188  \n",
       "2019-12-27  0.001500  \n",
       "2019-12-30 -0.008939  \n",
       "2019-12-31  0.003585  \n",
       "\n",
       "[3294 rows x 7 columns]"
      ]
     },
     "execution_count": 80,
     "metadata": {},
     "output_type": "execute_result"
    }
   ],
   "source": [
    "# Set Date as Index\n",
    "df_stock_data = df_portfolio.set_index(\"Date\").copy(deep=True)\n",
    "df_stock_data = df_stock_data[\"Adj Close\"].dropna()\n",
    "\n",
    "companies = df_stock_data.columns\n",
    "company_returns = []\n",
    "\n",
    "for company in companies:\n",
    "    df_stock_data[f\"{company}\".lower()] = np.log(df_stock_data[company] / df_stock_data[company].shift(1))\n",
    "    company_returns.append(f\"{company}\".lower())\n",
    "\n",
    "df_stock_data.dropna(inplace=True)\n",
    "\n",
    "df_returns = df_stock_data[company_returns].copy(deep=True)\n",
    "df_returns"
   ]
  },
  {
   "attachments": {},
   "cell_type": "markdown",
   "metadata": {},
   "source": [
    "### Calculate Mean Returns"
   ]
  },
  {
   "cell_type": "code",
   "execution_count": 81,
   "metadata": {},
   "outputs": [
    {
     "data": {
      "text/html": [
       "<div>\n",
       "<style scoped>\n",
       "    .dataframe tbody tr th:only-of-type {\n",
       "        vertical-align: middle;\n",
       "    }\n",
       "\n",
       "    .dataframe tbody tr th {\n",
       "        vertical-align: top;\n",
       "    }\n",
       "\n",
       "    .dataframe thead th {\n",
       "        text-align: right;\n",
       "    }\n",
       "</style>\n",
       "<table border=\"1\" class=\"dataframe\">\n",
       "  <thead>\n",
       "    <tr style=\"text-align: right;\">\n",
       "      <th></th>\n",
       "      <th>coke</th>\n",
       "      <th>googl</th>\n",
       "      <th>hd</th>\n",
       "      <th>ford</th>\n",
       "      <th>smg</th>\n",
       "      <th>jnj</th>\n",
       "      <th>ag</th>\n",
       "    </tr>\n",
       "  </thead>\n",
       "  <tbody>\n",
       "    <tr>\n",
       "      <th>0</th>\n",
       "      <td>0.087624</td>\n",
       "      <td>0.127026</td>\n",
       "      <td>-0.117682</td>\n",
       "      <td>0.129958</td>\n",
       "      <td>0.161476</td>\n",
       "      <td>0.090385</td>\n",
       "      <td>0.095211</td>\n",
       "    </tr>\n",
       "  </tbody>\n",
       "</table>\n",
       "</div>"
      ],
      "text/plain": [
       "       coke     googl        hd      ford       smg       jnj        ag\n",
       "0  0.087624  0.127026 -0.117682  0.129958  0.161476  0.090385  0.095211"
      ]
     },
     "execution_count": 81,
     "metadata": {},
     "output_type": "execute_result"
    }
   ],
   "source": [
    "# Calculating Mean Returns\n",
    "ag_mean = df_returns[\"ag\"].mean() * 252\n",
    "coke_mean = df_returns[\"coke\"].mean() * 252\n",
    "ford_mean = df_returns[\"ford\"].mean() * 252\n",
    "googl_mean = df_returns[\"googl\"].mean() * 252\n",
    "hd_mean = df_returns[\"hd\"].mean() * 252\n",
    "jnj_mean = df_returns[\"jnj\"].mean() * 252\n",
    "smg_mean = df_returns[\"smg\"].mean() * 252\n",
    "\n",
    "return_means = [ag_mean, coke_mean, ford_mean, googl_mean, hd_mean, jnj_mean, smg_mean]\n",
    "\n",
    "i = 0\n",
    "new_df = {}\n",
    "new_df_list = []\n",
    "for ticker in tickers:\n",
    "    new_df[ticker] = return_means[i]\n",
    "    i += 1\n",
    "new_df_list.append(new_df)\n",
    "\n",
    "df_returns_mean = pd.DataFrame(new_df_list)\n",
    "df_returns_mean"
   ]
  },
  {
   "cell_type": "code",
   "execution_count": 89,
   "metadata": {},
   "outputs": [
    {
     "data": {
      "text/html": [
       "<div>\n",
       "<style scoped>\n",
       "    .dataframe tbody tr th:only-of-type {\n",
       "        vertical-align: middle;\n",
       "    }\n",
       "\n",
       "    .dataframe tbody tr th {\n",
       "        vertical-align: top;\n",
       "    }\n",
       "\n",
       "    .dataframe thead th {\n",
       "        text-align: right;\n",
       "    }\n",
       "</style>\n",
       "<table border=\"1\" class=\"dataframe\">\n",
       "  <thead>\n",
       "    <tr style=\"text-align: right;\">\n",
       "      <th></th>\n",
       "      <th>ag</th>\n",
       "      <th>coke</th>\n",
       "      <th>ford</th>\n",
       "      <th>googl</th>\n",
       "      <th>hd</th>\n",
       "      <th>jnj</th>\n",
       "      <th>smg</th>\n",
       "    </tr>\n",
       "  </thead>\n",
       "  <tbody>\n",
       "    <tr>\n",
       "      <th>ag</th>\n",
       "      <td>0.437106</td>\n",
       "      <td>0.016288</td>\n",
       "      <td>0.027124</td>\n",
       "      <td>0.023022</td>\n",
       "      <td>0.017172</td>\n",
       "      <td>0.011987</td>\n",
       "      <td>0.020391</td>\n",
       "    </tr>\n",
       "    <tr>\n",
       "      <th>coke</th>\n",
       "      <td>0.016288</td>\n",
       "      <td>0.105159</td>\n",
       "      <td>0.013460</td>\n",
       "      <td>0.023077</td>\n",
       "      <td>0.027029</td>\n",
       "      <td>0.016193</td>\n",
       "      <td>0.023157</td>\n",
       "    </tr>\n",
       "    <tr>\n",
       "      <th>ford</th>\n",
       "      <td>0.027124</td>\n",
       "      <td>0.013460</td>\n",
       "      <td>0.564789</td>\n",
       "      <td>0.022540</td>\n",
       "      <td>0.015181</td>\n",
       "      <td>0.005729</td>\n",
       "      <td>0.014102</td>\n",
       "    </tr>\n",
       "    <tr>\n",
       "      <th>googl</th>\n",
       "      <td>0.023022</td>\n",
       "      <td>0.023077</td>\n",
       "      <td>0.022540</td>\n",
       "      <td>0.079600</td>\n",
       "      <td>0.033294</td>\n",
       "      <td>0.018724</td>\n",
       "      <td>0.027946</td>\n",
       "    </tr>\n",
       "    <tr>\n",
       "      <th>hd</th>\n",
       "      <td>0.017172</td>\n",
       "      <td>0.027029</td>\n",
       "      <td>0.015181</td>\n",
       "      <td>0.033294</td>\n",
       "      <td>0.065560</td>\n",
       "      <td>0.019263</td>\n",
       "      <td>0.034369</td>\n",
       "    </tr>\n",
       "    <tr>\n",
       "      <th>jnj</th>\n",
       "      <td>0.011987</td>\n",
       "      <td>0.016193</td>\n",
       "      <td>0.005729</td>\n",
       "      <td>0.018724</td>\n",
       "      <td>0.019263</td>\n",
       "      <td>0.027399</td>\n",
       "      <td>0.016132</td>\n",
       "    </tr>\n",
       "    <tr>\n",
       "      <th>smg</th>\n",
       "      <td>0.020391</td>\n",
       "      <td>0.023157</td>\n",
       "      <td>0.014102</td>\n",
       "      <td>0.027946</td>\n",
       "      <td>0.034369</td>\n",
       "      <td>0.016132</td>\n",
       "      <td>0.096138</td>\n",
       "    </tr>\n",
       "  </tbody>\n",
       "</table>\n",
       "</div>"
      ],
      "text/plain": [
       "             ag      coke      ford     googl        hd       jnj       smg\n",
       "ag     0.437106  0.016288  0.027124  0.023022  0.017172  0.011987  0.020391\n",
       "coke   0.016288  0.105159  0.013460  0.023077  0.027029  0.016193  0.023157\n",
       "ford   0.027124  0.013460  0.564789  0.022540  0.015181  0.005729  0.014102\n",
       "googl  0.023022  0.023077  0.022540  0.079600  0.033294  0.018724  0.027946\n",
       "hd     0.017172  0.027029  0.015181  0.033294  0.065560  0.019263  0.034369\n",
       "jnj    0.011987  0.016193  0.005729  0.018724  0.019263  0.027399  0.016132\n",
       "smg    0.020391  0.023157  0.014102  0.027946  0.034369  0.016132  0.096138"
      ]
     },
     "execution_count": 89,
     "metadata": {},
     "output_type": "execute_result"
    }
   ],
   "source": [
    "# Calculating Covariance Matrix\n",
    "df_covariance_matrix = df_returns.cov() * 252\n",
    "df_covariance_matrix"
   ]
  },
  {
   "cell_type": "code",
   "execution_count": 90,
   "metadata": {},
   "outputs": [
    {
     "data": {
      "text/html": [
       "<div>\n",
       "<style scoped>\n",
       "    .dataframe tbody tr th:only-of-type {\n",
       "        vertical-align: middle;\n",
       "    }\n",
       "\n",
       "    .dataframe tbody tr th {\n",
       "        vertical-align: top;\n",
       "    }\n",
       "\n",
       "    .dataframe thead th {\n",
       "        text-align: right;\n",
       "    }\n",
       "</style>\n",
       "<table border=\"1\" class=\"dataframe\">\n",
       "  <thead>\n",
       "    <tr style=\"text-align: right;\">\n",
       "      <th></th>\n",
       "      <th>coke</th>\n",
       "      <th>googl</th>\n",
       "      <th>hd</th>\n",
       "      <th>ford</th>\n",
       "      <th>smg</th>\n",
       "      <th>jnj</th>\n",
       "      <th>ag</th>\n",
       "    </tr>\n",
       "  </thead>\n",
       "  <tbody>\n",
       "    <tr>\n",
       "      <th>0</th>\n",
       "      <td>0.142857</td>\n",
       "      <td>0.142857</td>\n",
       "      <td>0.142857</td>\n",
       "      <td>0.142857</td>\n",
       "      <td>0.142857</td>\n",
       "      <td>0.142857</td>\n",
       "      <td>0.142857</td>\n",
       "    </tr>\n",
       "  </tbody>\n",
       "</table>\n",
       "</div>"
      ],
      "text/plain": [
       "       coke     googl        hd      ford       smg       jnj        ag\n",
       "0  0.142857  0.142857  0.142857  0.142857  0.142857  0.142857  0.142857"
      ]
     },
     "execution_count": 90,
     "metadata": {},
     "output_type": "execute_result"
    }
   ],
   "source": [
    "i = 0\n",
    "new_df = {}\n",
    "new_df_list = []\n",
    "for ticker in tickers:\n",
    "    new_df[ticker] = 1/len(tickers)\n",
    "    i += 1\n",
    "new_df_list.append(new_df)\n",
    "\n",
    "allocation = pd.DataFrame(new_df_list)\n",
    "allocation"
   ]
  },
  {
   "cell_type": "code",
   "execution_count": 91,
   "metadata": {},
   "outputs": [
    {
     "data": {
      "text/html": [
       "<div>\n",
       "<style scoped>\n",
       "    .dataframe tbody tr th:only-of-type {\n",
       "        vertical-align: middle;\n",
       "    }\n",
       "\n",
       "    .dataframe tbody tr th {\n",
       "        vertical-align: top;\n",
       "    }\n",
       "\n",
       "    .dataframe thead th {\n",
       "        text-align: right;\n",
       "    }\n",
       "</style>\n",
       "<table border=\"1\" class=\"dataframe\">\n",
       "  <thead>\n",
       "    <tr style=\"text-align: right;\">\n",
       "      <th></th>\n",
       "      <th>coke</th>\n",
       "      <th>googl</th>\n",
       "      <th>hd</th>\n",
       "      <th>ford</th>\n",
       "      <th>smg</th>\n",
       "      <th>jnj</th>\n",
       "      <th>ag</th>\n",
       "    </tr>\n",
       "  </thead>\n",
       "  <tbody>\n",
       "    <tr>\n",
       "      <th>0</th>\n",
       "      <td>0.087624</td>\n",
       "      <td>0.127026</td>\n",
       "      <td>-0.117682</td>\n",
       "      <td>0.129958</td>\n",
       "      <td>0.161476</td>\n",
       "      <td>0.090385</td>\n",
       "      <td>0.095211</td>\n",
       "    </tr>\n",
       "  </tbody>\n",
       "</table>\n",
       "</div>"
      ],
      "text/plain": [
       "       coke     googl        hd      ford       smg       jnj        ag\n",
       "0  0.087624  0.127026 -0.117682  0.129958  0.161476  0.090385  0.095211"
      ]
     },
     "execution_count": 91,
     "metadata": {},
     "output_type": "execute_result"
    }
   ],
   "source": [
    "df_returns_mean"
   ]
  },
  {
   "cell_type": "code",
   "execution_count": 92,
   "metadata": {},
   "outputs": [
    {
     "data": {
      "text/plain": [
       "0.0819994971034287"
      ]
     },
     "execution_count": 92,
     "metadata": {},
     "output_type": "execute_result"
    }
   ],
   "source": [
    "expected_return = (df_returns_mean * allocation).sum().sum()\n",
    "expected_return"
   ]
  },
  {
   "cell_type": "code",
   "execution_count": 93,
   "metadata": {},
   "outputs": [
    {
     "data": {
      "text/plain": [
       "array([[0.21324114]])"
      ]
     },
     "execution_count": 93,
     "metadata": {},
     "output_type": "execute_result"
    }
   ],
   "source": [
    "from functools import reduce\n",
    "portfolio_risk = np.sqrt(reduce(np.dot, [allocation, df_covariance_matrix, allocation.T]))\n",
    "portfolio_risk"
   ]
  },
  {
   "cell_type": "code",
   "execution_count": 94,
   "metadata": {},
   "outputs": [
    {
     "data": {
      "text/plain": [
       "array([[0.22040539]])"
      ]
     },
     "execution_count": 94,
     "metadata": {},
     "output_type": "execute_result"
    }
   ],
   "source": [
    "risk_free_rate = .035\n",
    "\n",
    "# Sharpe Ratio\n",
    "(expected_return - risk_free_rate) / portfolio_risk"
   ]
  },
  {
   "cell_type": "code",
   "execution_count": null,
   "metadata": {},
   "outputs": [],
   "source": []
  }
 ],
 "metadata": {
  "kernelspec": {
   "display_name": "venv",
   "language": "python",
   "name": "python3"
  },
  "language_info": {
   "codemirror_mode": {
    "name": "ipython",
    "version": 3
   },
   "file_extension": ".py",
   "mimetype": "text/x-python",
   "name": "python",
   "nbconvert_exporter": "python",
   "pygments_lexer": "ipython3",
   "version": "3.9.13"
  },
  "orig_nbformat": 4,
  "vscode": {
   "interpreter": {
    "hash": "58a9a923cc53f6eb441dd9cecc810e2b528684158c7acbe86114ab94a203a9eb"
   }
  }
 },
 "nbformat": 4,
 "nbformat_minor": 2
}
