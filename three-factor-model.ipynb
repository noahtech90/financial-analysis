{
 "cells": [
  {
   "attachments": {},
   "cell_type": "markdown",
   "metadata": {},
   "source": [
    "### Single Stock Analysis Using 3 Factor Risk Model"
   ]
  },
  {
   "cell_type": "code",
   "execution_count": 150,
   "metadata": {},
   "outputs": [
    {
     "name": "stdout",
     "output_type": "stream",
     "text": [
      "[*********************100%***********************]  1 of 1 completed\n"
     ]
    }
   ],
   "source": [
    "import datetime as dt\n",
    "import yfinance as yf\n",
    "import numpy as np\n",
    "import matplotlib.pyplot as plt\n",
    "import numpy as np\n",
    "import statsmodels.api as sm\n",
    "\n",
    "tickers = ['IBM']\n",
    "start = \"2000-01-01\"\n",
    "end = \"2020-01-01\"\n",
    "\n",
    "# Grab yfinance Data\n",
    "df_portfolio = yf.download(tickers, start, end).reset_index()\n",
    "\n",
    "df_portfolio = df_portfolio[[\"Date\", \"Adj Close\"]].rename(columns={\"Date\": \"date\", \"Adj Close\": \"adj_close\"})\n"
   ]
  },
  {
   "cell_type": "code",
   "execution_count": 151,
   "metadata": {},
   "outputs": [
    {
     "data": {
      "text/plain": [
       "0       1.000000\n",
       "1       0.966056\n",
       "2       1.000000\n",
       "3       0.982759\n",
       "4       0.978448\n",
       "          ...   \n",
       "5026    1.736327\n",
       "5027    1.735427\n",
       "5028    1.740058\n",
       "5029    1.708413\n",
       "5030    1.724235\n",
       "Name: adj_close, Length: 5031, dtype: float64"
      ]
     },
     "execution_count": 151,
     "metadata": {},
     "output_type": "execute_result"
    }
   ],
   "source": [
    "# Computing Nominal Range\n",
    "data = df_portfolio[\"adj_close\"]\n",
    "data/data.iloc[0]"
   ]
  },
  {
   "cell_type": "code",
   "execution_count": 152,
   "metadata": {},
   "outputs": [
    {
     "data": {
      "text/plain": [
       "1.7242353152238032"
      ]
     },
     "execution_count": 152,
     "metadata": {},
     "output_type": "execute_result"
    }
   ],
   "source": [
    "# Calculate Log Returns\n",
    "df_portfolio[\"return\"] = (df_portfolio[\"adj_close\"] /df_portfolio[\"adj_close\"].shift())\n",
    "\n",
    "df_portfolio[\"log_return\"] = np.log(df_portfolio[\"return\"])\n",
    "\n",
    "# Total Return Over Time Series\n",
    "np.e ** df_portfolio[\"log_return\"].sum()"
   ]
  },
  {
   "cell_type": "code",
   "execution_count": 153,
   "metadata": {},
   "outputs": [
    {
     "data": {
      "text/html": [
       "<div>\n",
       "<style scoped>\n",
       "    .dataframe tbody tr th:only-of-type {\n",
       "        vertical-align: middle;\n",
       "    }\n",
       "\n",
       "    .dataframe tbody tr th {\n",
       "        vertical-align: top;\n",
       "    }\n",
       "\n",
       "    .dataframe thead th {\n",
       "        text-align: right;\n",
       "    }\n",
       "</style>\n",
       "<table border=\"1\" class=\"dataframe\">\n",
       "  <thead>\n",
       "    <tr style=\"text-align: right;\">\n",
       "      <th></th>\n",
       "      <th>date</th>\n",
       "      <th>market_premium</th>\n",
       "      <th>smb</th>\n",
       "      <th>hml</th>\n",
       "      <th>rf</th>\n",
       "      <th>month</th>\n",
       "    </tr>\n",
       "  </thead>\n",
       "  <tbody>\n",
       "    <tr>\n",
       "      <th>0</th>\n",
       "      <td>199007</td>\n",
       "      <td>0.77</td>\n",
       "      <td>0.53</td>\n",
       "      <td>-0.36</td>\n",
       "      <td>0.68</td>\n",
       "      <td>1990-07-01</td>\n",
       "    </tr>\n",
       "    <tr>\n",
       "      <th>1</th>\n",
       "      <td>199008</td>\n",
       "      <td>-10.77</td>\n",
       "      <td>-1.51</td>\n",
       "      <td>0.48</td>\n",
       "      <td>0.66</td>\n",
       "      <td>1990-08-01</td>\n",
       "    </tr>\n",
       "    <tr>\n",
       "      <th>2</th>\n",
       "      <td>199009</td>\n",
       "      <td>-11.89</td>\n",
       "      <td>1.32</td>\n",
       "      <td>0.81</td>\n",
       "      <td>0.60</td>\n",
       "      <td>1990-09-01</td>\n",
       "    </tr>\n",
       "    <tr>\n",
       "      <th>3</th>\n",
       "      <td>199010</td>\n",
       "      <td>9.35</td>\n",
       "      <td>-7.58</td>\n",
       "      <td>-4.48</td>\n",
       "      <td>0.68</td>\n",
       "      <td>1990-10-01</td>\n",
       "    </tr>\n",
       "    <tr>\n",
       "      <th>4</th>\n",
       "      <td>199011</td>\n",
       "      <td>-3.72</td>\n",
       "      <td>1.44</td>\n",
       "      <td>1.13</td>\n",
       "      <td>0.57</td>\n",
       "      <td>1990-11-01</td>\n",
       "    </tr>\n",
       "    <tr>\n",
       "      <th>...</th>\n",
       "      <td>...</td>\n",
       "      <td>...</td>\n",
       "      <td>...</td>\n",
       "      <td>...</td>\n",
       "      <td>...</td>\n",
       "      <td>...</td>\n",
       "    </tr>\n",
       "    <tr>\n",
       "      <th>385</th>\n",
       "      <td>202208</td>\n",
       "      <td>-4.22</td>\n",
       "      <td>0.42</td>\n",
       "      <td>2.49</td>\n",
       "      <td>0.19</td>\n",
       "      <td>2022-08-01</td>\n",
       "    </tr>\n",
       "    <tr>\n",
       "      <th>386</th>\n",
       "      <td>202209</td>\n",
       "      <td>-9.46</td>\n",
       "      <td>-1.66</td>\n",
       "      <td>1.89</td>\n",
       "      <td>0.19</td>\n",
       "      <td>2022-09-01</td>\n",
       "    </tr>\n",
       "    <tr>\n",
       "      <th>387</th>\n",
       "      <td>202210</td>\n",
       "      <td>6.79</td>\n",
       "      <td>-2.02</td>\n",
       "      <td>4.41</td>\n",
       "      <td>0.23</td>\n",
       "      <td>2022-10-01</td>\n",
       "    </tr>\n",
       "    <tr>\n",
       "      <th>388</th>\n",
       "      <td>202211</td>\n",
       "      <td>7.25</td>\n",
       "      <td>-0.24</td>\n",
       "      <td>-0.28</td>\n",
       "      <td>0.29</td>\n",
       "      <td>2022-11-01</td>\n",
       "    </tr>\n",
       "    <tr>\n",
       "      <th>389</th>\n",
       "      <td>202212</td>\n",
       "      <td>-4.33</td>\n",
       "      <td>2.14</td>\n",
       "      <td>2.51</td>\n",
       "      <td>0.33</td>\n",
       "      <td>2022-12-01</td>\n",
       "    </tr>\n",
       "  </tbody>\n",
       "</table>\n",
       "<p>390 rows × 6 columns</p>\n",
       "</div>"
      ],
      "text/plain": [
       "           date market_premium        smb        hml    rf      month\n",
       "0    199007           0.77        0.53     -0.36      0.68 1990-07-01\n",
       "1      199008        -10.77     -1.51       0.48      0.66 1990-08-01\n",
       "2      199009       -11.89       1.32       0.81      0.60 1990-09-01\n",
       "3    199010            9.35      -7.58     -4.48      0.68 1990-10-01\n",
       "4     199011         -3.72       1.44       1.13      0.57 1990-11-01\n",
       "..          ...            ...        ...        ...   ...        ...\n",
       "385   202208         -4.22       0.42       2.49      0.19 2022-08-01\n",
       "386   202209          -9.46     -1.66       1.89      0.19 2022-09-01\n",
       "387  202210            6.79     -2.02       4.41      0.23 2022-10-01\n",
       "388  202211            7.25      -0.24     -0.28      0.29 2022-11-01\n",
       "389   202212         -4.33       2.14       2.51      0.33 2022-12-01\n",
       "\n",
       "[390 rows x 6 columns]"
      ]
     },
     "execution_count": 153,
     "metadata": {},
     "output_type": "execute_result"
    }
   ],
   "source": [
    "import pandas as pd\n",
    "\n",
    "# Calculating Stocks Monthly Returns\n",
    "df_portfolio_monthly  = df_portfolio[[\"date\", \"adj_close\"]].set_index(\"date\").resample(\"M\").last().pct_change().dropna()\n",
    "\n",
    "# Load in Fama French Data\n",
    "df_fama_french = pd.read_csv(\"data\\\\Developed_3_Factors.csv\")[:390]\n",
    "\n",
    "# Clean Fama French Data\n",
    "df_fama_french = df_fama_french.rename(columns={\"Unnamed: 0\": \"date\", \"Mkt-RF\": \"market_premium\", \"SMB\": \"smb\", \"HML\": \"hml\", \"RF\": \"rf\"})\n",
    "\n",
    "# Clean Date Format\n",
    "df_fama_french[\"month\"] = df_fama_french[\"date\"].str[:4] + \"-\" + df_fama_french[\"date\"].str[4:]\n",
    "df_fama_french[\"month\"] = pd.to_datetime(df_fama_french[\"month\"])\n",
    "df_fama_french"
   ]
  },
  {
   "cell_type": "code",
   "execution_count": 154,
   "metadata": {},
   "outputs": [
    {
     "name": "stderr",
     "output_type": "stream",
     "text": [
      "C:\\Users\\PCSale123\\AppData\\Local\\Temp\\ipykernel_14192\\1585041905.py:6: FutureWarning: The default value of numeric_only in DataFrameGroupBy.sum is deprecated. In a future version, numeric_only will default to False. Either specify numeric_only or select only columns which should be valid for the function.\n",
      "  df_monthly_returns = df_portfolio.groupby(\"month\").sum().reset_index()[[\"month\", \"log_return\"]]\n"
     ]
    }
   ],
   "source": [
    "# Calculate Monthly Returns \n",
    "df_portfolio[\"date\"] = df_portfolio[\"date\"].sort_values()\n",
    "df_portfolio[\"month\"] = df_portfolio[\"date\"].apply(lambda x: str(x)[:7])\n",
    "\n",
    "# Aggregate Monthly Returns\n",
    "df_monthly_returns = df_portfolio.groupby(\"month\").sum().reset_index()[[\"month\", \"log_return\"]]\n",
    "df_monthly_returns[\"return\"] = np.e ** df_monthly_returns[\"log_return\"]\n",
    "df_monthly_returns = df_monthly_returns[[\"month\", \"return\", \"log_return\"]]\n",
    "df_monthly_returns[\"return\"] = (df_monthly_returns[\"return\"] - 1) * 100\n",
    "\n",
    "# Clean Date Formatting\n",
    "df_monthly_returns[\"month\"] = pd.to_datetime(df_monthly_returns[\"month\"])"
   ]
  },
  {
   "cell_type": "code",
   "execution_count": 158,
   "metadata": {},
   "outputs": [],
   "source": [
    "df_combined = pd.merge(df_monthly_returns, df_fama_french, how=\"inner\", on=\"month\")[[\"month\", \"return\", \"market_premium\", \"smb\", \"hml\", \"rf\"]].copy(deep=True)\n",
    "df_combined[\"market_premium\"] = pd.to_numeric(df_combined[\"market_premium\"])\n",
    "df_combined[\"smb\"] = pd.to_numeric(df_combined[\"smb\"])\n",
    "df_combined[\"hml\"] = pd.to_numeric(df_combined[\"hml\"])\n",
    "df_combined[\"rf\"] = pd.to_numeric(df_combined[\"rf\"])"
   ]
  },
  {
   "attachments": {},
   "cell_type": "markdown",
   "metadata": {},
   "source": [
    "## Determine Risk Exposure to 3 Factors"
   ]
  },
  {
   "cell_type": "code",
   "execution_count": 159,
   "metadata": {},
   "outputs": [
    {
     "name": "stdout",
     "output_type": "stream",
     "text": [
      "                            OLS Regression Results                            \n",
      "==============================================================================\n",
      "Dep. Variable:                      y   R-squared:                       0.383\n",
      "Model:                            OLS   Adj. R-squared:                  0.375\n",
      "Method:                 Least Squares   F-statistic:                     48.79\n",
      "Date:                Fri, 24 Feb 2023   Prob (F-statistic):           1.43e-24\n",
      "Time:                        17:26:41   Log-Likelihood:                -756.84\n",
      "No. Observations:                 240   AIC:                             1522.\n",
      "Df Residuals:                     236   BIC:                             1536.\n",
      "Df Model:                           3                                         \n",
      "Covariance Type:            nonrobust                                         \n",
      "==================================================================================\n",
      "                     coef    std err          t      P>|t|      [0.025      0.975]\n",
      "----------------------------------------------------------------------------------\n",
      "const              0.2385      0.377      0.633      0.527      -0.503       0.980\n",
      "market_premium     0.9297      0.085     10.888      0.000       0.761       1.098\n",
      "smb               -0.5439      0.194     -2.804      0.005      -0.926      -0.162\n",
      "hml               -0.5904      0.155     -3.800      0.000      -0.897      -0.284\n",
      "==============================================================================\n",
      "Omnibus:                       44.893   Durbin-Watson:                   2.144\n",
      "Prob(Omnibus):                  0.000   Jarque-Bera (JB):              151.467\n",
      "Skew:                           0.736   Prob(JB):                     1.29e-33\n",
      "Kurtosis:                       6.602   Cond. No.                         4.52\n",
      "==============================================================================\n",
      "\n",
      "Notes:\n",
      "[1] Standard Errors assume that the covariance matrix of the errors is correctly specified.\n"
     ]
    }
   ],
   "source": [
    "X = df_combined[['market_premium', 'smb', 'hml']]\n",
    "y = df_combined['return'] - df_combined['rf']\n",
    "X = sm.add_constant(X)\n",
    "ff_model = sm.OLS(y, X).fit()\n",
    "print(ff_model.summary())\n",
    "intercept, b1, b2, b3 = ff_model.params"
   ]
  },
  {
   "attachments": {},
   "cell_type": "markdown",
   "metadata": {},
   "source": [
    "## Generate Expected Return in a Year"
   ]
  },
  {
   "cell_type": "code",
   "execution_count": 160,
   "metadata": {},
   "outputs": [
    {
     "name": "stdout",
     "output_type": "stream",
     "text": [
      "Expected yearly return: 2.950501571963396\n"
     ]
    }
   ],
   "source": [
    "rf = df_combined['rf'].mean()\n",
    "market_premium = df_combined['market_premium'].mean()\n",
    "size_premium = df_combined['smb'].mean()\n",
    "value_premium = df_combined['hml'].mean()\n",
    "\n",
    "expected_monthly_return = rf + b1 * market_premium + b2 * size_premium + b3 * value_premium \n",
    "expected_yearly_return = expected_monthly_return * 12\n",
    "print(\"Expected yearly return: \" + str(expected_yearly_return))"
   ]
  },
  {
   "cell_type": "code",
   "execution_count": null,
   "metadata": {},
   "outputs": [],
   "source": []
  }
 ],
 "metadata": {
  "kernelspec": {
   "display_name": "venv",
   "language": "python",
   "name": "python3"
  },
  "language_info": {
   "codemirror_mode": {
    "name": "ipython",
    "version": 3
   },
   "file_extension": ".py",
   "mimetype": "text/x-python",
   "name": "python",
   "nbconvert_exporter": "python",
   "pygments_lexer": "ipython3",
   "version": "3.9.13"
  },
  "orig_nbformat": 4,
  "vscode": {
   "interpreter": {
    "hash": "58a9a923cc53f6eb441dd9cecc810e2b528684158c7acbe86114ab94a203a9eb"
   }
  }
 },
 "nbformat": 4,
 "nbformat_minor": 2
}
