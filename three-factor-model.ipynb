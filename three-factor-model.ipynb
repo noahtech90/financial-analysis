{
 "cells": [
  {
   "attachments": {},
   "cell_type": "markdown",
   "metadata": {},
   "source": [
    "### Single Stock Analysis Using 3 Factor Risk Model"
   ]
  },
  {
   "cell_type": "code",
   "execution_count": 78,
   "metadata": {},
   "outputs": [
    {
     "name": "stdout",
     "output_type": "stream",
     "text": [
      "[*********************100%***********************]  1 of 1 completed\n"
     ]
    }
   ],
   "source": [
    "import datetime as dt\n",
    "import yfinance as yf\n",
    "import numpy as np\n",
    "import matplotlib.pyplot as plt\n",
    "import numpy as np\n",
    "\n",
    "tickers = ['IBM']\n",
    "start = \"2000-01-01\"\n",
    "end = \"2020-01-01\"\n",
    "\n",
    "# Grab yfinance Data\n",
    "df_portfolio = yf.download(tickers, start, end).reset_index()\n",
    "\n",
    "df_portfolio = df_portfolio[[\"Date\", \"Adj Close\"]].rename(columns={\"Date\": \"date\", \"Adj Close\": \"adj_close\"})\n"
   ]
  },
  {
   "cell_type": "code",
   "execution_count": 79,
   "metadata": {},
   "outputs": [
    {
     "data": {
      "text/plain": [
       "0       1.000000\n",
       "1       0.966056\n",
       "2       1.000000\n",
       "3       0.982759\n",
       "4       0.978448\n",
       "          ...   \n",
       "5026    1.736327\n",
       "5027    1.735427\n",
       "5028    1.740058\n",
       "5029    1.708413\n",
       "5030    1.724235\n",
       "Name: adj_close, Length: 5031, dtype: float64"
      ]
     },
     "execution_count": 79,
     "metadata": {},
     "output_type": "execute_result"
    }
   ],
   "source": [
    "# Computing Nominal Range\n",
    "data = df_portfolio[\"adj_close\"]\n",
    "data/data.iloc[0]"
   ]
  },
  {
   "cell_type": "code",
   "execution_count": 86,
   "metadata": {},
   "outputs": [
    {
     "data": {
      "text/plain": [
       "1.7242353484717037"
      ]
     },
     "execution_count": 86,
     "metadata": {},
     "output_type": "execute_result"
    }
   ],
   "source": [
    "# Calculate Log Returns\n",
    "df_portfolio[\"return\"] = (df_portfolio[\"adj_close\"] /df_portfolio[\"adj_close\"].shift())\n",
    "\n",
    "df_portfolio[\"log_return\"] = np.log(df_portfolio[\"return\"])\n",
    "\n",
    "# Total Return Over Time Series\n",
    "np.e ** df_portfolio[\"log_return\"].sum()"
   ]
  },
  {
   "cell_type": "code",
   "execution_count": 103,
   "metadata": {},
   "outputs": [
    {
     "data": {
      "text/html": [
       "<div>\n",
       "<style scoped>\n",
       "    .dataframe tbody tr th:only-of-type {\n",
       "        vertical-align: middle;\n",
       "    }\n",
       "\n",
       "    .dataframe tbody tr th {\n",
       "        vertical-align: top;\n",
       "    }\n",
       "\n",
       "    .dataframe thead th {\n",
       "        text-align: right;\n",
       "    }\n",
       "</style>\n",
       "<table border=\"1\" class=\"dataframe\">\n",
       "  <thead>\n",
       "    <tr style=\"text-align: right;\">\n",
       "      <th></th>\n",
       "      <th>date</th>\n",
       "      <th>Mkt-RF</th>\n",
       "      <th>SMB</th>\n",
       "      <th>HML</th>\n",
       "      <th>RF</th>\n",
       "    </tr>\n",
       "  </thead>\n",
       "  <tbody>\n",
       "    <tr>\n",
       "      <th>0</th>\n",
       "      <td>199007</td>\n",
       "      <td>0.77</td>\n",
       "      <td>0.53</td>\n",
       "      <td>-0.36</td>\n",
       "      <td>0.68</td>\n",
       "    </tr>\n",
       "    <tr>\n",
       "      <th>1</th>\n",
       "      <td>199008</td>\n",
       "      <td>-10.77</td>\n",
       "      <td>-1.51</td>\n",
       "      <td>0.48</td>\n",
       "      <td>0.66</td>\n",
       "    </tr>\n",
       "    <tr>\n",
       "      <th>2</th>\n",
       "      <td>199009</td>\n",
       "      <td>-11.89</td>\n",
       "      <td>1.32</td>\n",
       "      <td>0.81</td>\n",
       "      <td>0.60</td>\n",
       "    </tr>\n",
       "    <tr>\n",
       "      <th>3</th>\n",
       "      <td>199010</td>\n",
       "      <td>9.35</td>\n",
       "      <td>-7.58</td>\n",
       "      <td>-4.48</td>\n",
       "      <td>0.68</td>\n",
       "    </tr>\n",
       "    <tr>\n",
       "      <th>4</th>\n",
       "      <td>199011</td>\n",
       "      <td>-3.72</td>\n",
       "      <td>1.44</td>\n",
       "      <td>1.13</td>\n",
       "      <td>0.57</td>\n",
       "    </tr>\n",
       "    <tr>\n",
       "      <th>...</th>\n",
       "      <td>...</td>\n",
       "      <td>...</td>\n",
       "      <td>...</td>\n",
       "      <td>...</td>\n",
       "      <td>...</td>\n",
       "    </tr>\n",
       "    <tr>\n",
       "      <th>385</th>\n",
       "      <td>202208</td>\n",
       "      <td>-4.22</td>\n",
       "      <td>0.42</td>\n",
       "      <td>2.49</td>\n",
       "      <td>0.19</td>\n",
       "    </tr>\n",
       "    <tr>\n",
       "      <th>386</th>\n",
       "      <td>202209</td>\n",
       "      <td>-9.46</td>\n",
       "      <td>-1.66</td>\n",
       "      <td>1.89</td>\n",
       "      <td>0.19</td>\n",
       "    </tr>\n",
       "    <tr>\n",
       "      <th>387</th>\n",
       "      <td>202210</td>\n",
       "      <td>6.79</td>\n",
       "      <td>-2.02</td>\n",
       "      <td>4.41</td>\n",
       "      <td>0.23</td>\n",
       "    </tr>\n",
       "    <tr>\n",
       "      <th>388</th>\n",
       "      <td>202211</td>\n",
       "      <td>7.25</td>\n",
       "      <td>-0.24</td>\n",
       "      <td>-0.28</td>\n",
       "      <td>0.29</td>\n",
       "    </tr>\n",
       "    <tr>\n",
       "      <th>389</th>\n",
       "      <td>202212</td>\n",
       "      <td>-4.33</td>\n",
       "      <td>2.14</td>\n",
       "      <td>2.51</td>\n",
       "      <td>0.33</td>\n",
       "    </tr>\n",
       "  </tbody>\n",
       "</table>\n",
       "<p>390 rows × 5 columns</p>\n",
       "</div>"
      ],
      "text/plain": [
       "           date      Mkt-RF        SMB        HML    RF\n",
       "0    199007        0.77        0.53     -0.36      0.68\n",
       "1      199008     -10.77     -1.51       0.48      0.66\n",
       "2      199009    -11.89       1.32       0.81      0.60\n",
       "3    199010         9.35      -7.58     -4.48      0.68\n",
       "4     199011      -3.72       1.44       1.13      0.57\n",
       "..          ...         ...        ...        ...   ...\n",
       "385   202208      -4.22       0.42       2.49      0.19\n",
       "386   202209       -9.46     -1.66       1.89      0.19\n",
       "387  202210         6.79     -2.02       4.41      0.23\n",
       "388  202211         7.25      -0.24     -0.28      0.29\n",
       "389   202212      -4.33       2.14       2.51      0.33\n",
       "\n",
       "[390 rows x 5 columns]"
      ]
     },
     "execution_count": 103,
     "metadata": {},
     "output_type": "execute_result"
    }
   ],
   "source": [
    "import pandas as pd\n",
    "\n",
    "# Calculating Stocks Monthly Returns\n",
    "df_portfolio_monthly  = df_portfolio[[\"date\", \"adj_close\"]].set_index(\"date\").resample(\"M\").last().pct_change().dropna()\n",
    "\n",
    "# Load in Fama French Data\n",
    "df_fama_french = pd.read_csv(\"data\\\\Developed_3_Factors.csv\")[:390]\n",
    "\n",
    "# Clean Fama French Data\n",
    "df_fama_french = df_fama_french.rename(columns={\"Unnamed: 0\": \"date\", \"Mkt-Rf\": \"market_premium\", \"SMB\": \"smb\", \"HML\": \"hml\", \"RF\": \"rf\"})\n",
    "\n",
    "df_fama_french"
   ]
  },
  {
   "cell_type": "code",
   "execution_count": null,
   "metadata": {},
   "outputs": [],
   "source": []
  }
 ],
 "metadata": {
  "kernelspec": {
   "display_name": "venv",
   "language": "python",
   "name": "python3"
  },
  "language_info": {
   "codemirror_mode": {
    "name": "ipython",
    "version": 3
   },
   "file_extension": ".py",
   "mimetype": "text/x-python",
   "name": "python",
   "nbconvert_exporter": "python",
   "pygments_lexer": "ipython3",
   "version": "3.9.13"
  },
  "orig_nbformat": 4,
  "vscode": {
   "interpreter": {
    "hash": "58a9a923cc53f6eb441dd9cecc810e2b528684158c7acbe86114ab94a203a9eb"
   }
  }
 },
 "nbformat": 4,
 "nbformat_minor": 2
}
