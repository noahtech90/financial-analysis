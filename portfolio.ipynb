{
 "cells": [
  {
   "attachments": {},
   "cell_type": "markdown",
   "metadata": {},
   "source": [
    "# Basic Portfolio Contruction Example"
   ]
  },
  {
   "cell_type": "code",
   "execution_count": null,
   "metadata": {},
   "outputs": [],
   "source": [
    "import datetime as dt\n",
    "import yfinance as yf\n",
    "import numpy as np\n",
    "\n",
    "tickers = ['AAPL', 'MSFT', 'TWTR', 'IBM']\n",
    "start = \"2020-01-01\"\n",
    "end = \"2022-01-01\"\n",
    "\n",
    "# Grab yfinance Data\n",
    "df_portfolio = yf.download(tickers, start, end).reset_index()\n",
    "\n",
    "# Adjusted Close \n",
    "data = df_portfolio[\"Adj Close\"]\n",
    "\n",
    "portfolio_weighting = [.25, .15, .4, .2]\n",
    "np.sum(portfolio_weighting)\n",
    "\n",
    "# How Has Portfolio Performed Over Time with 10000 Investment\n",
    "data/data.iloc[0] * portfolio_weighting * 100000"
   ]
  }
 ],
 "metadata": {
  "kernelspec": {
   "display_name": "venv",
   "language": "python",
   "name": "python3"
  },
  "language_info": {
   "name": "python",
   "version": "3.9.13"
  },
  "orig_nbformat": 4,
  "vscode": {
   "interpreter": {
    "hash": "58a9a923cc53f6eb441dd9cecc810e2b528684158c7acbe86114ab94a203a9eb"
   }
  }
 },
 "nbformat": 4,
 "nbformat_minor": 2
}
